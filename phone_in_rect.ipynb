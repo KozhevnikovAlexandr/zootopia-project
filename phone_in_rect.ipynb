{
 "cells": [
  {
   "cell_type": "code",
   "execution_count": null,
   "metadata": {},
   "outputs": [],
   "source": [
    "import os\n",
    "import cv2\n",
    "import json\n",
    "import random\n",
    "\n",
    "split_list = []\n",
    "os.mkdir(\"D:/dataset\")  # создание папки на диске D\n",
    "for i in os.listdir('D:/dataset phone'):\n",
    "    split_list.append(i.split(\".\"))\n",
    "for filename in split_list:\n",
    "    if filename[1] in [\"jpg\", \"jpeg\", \"png\"]:\n",
    "        name = \".\".join(filename)\n",
    "        img = cv2.imread(\"D:/dataset phone/{}\".format(name), cv2.IMREAD_UNCHANGED)\n",
    "        json_file = \"D:/dataset phone/{}.json\".format(filename[0])\n",
    "        with open(json_file, 'r', encoding='utf-8') as f:\n",
    "            coord = json.load(f)\n",
    "        res_img = cv2.rectangle(img, (coord[1][0], coord[1][1]), (coord[1][2], coord[1][3]), (0, 255, 255), 5)\n",
    "        name_file = 'D:/dataset/{}.jpg'.format(random.randint(0, 1000))\n",
    "        cv2.imwrite(name_file, res_img) # запись изображений в папку"
   ]
  }
 ],
 "metadata": {
  "kernelspec": {
   "display_name": "Python 3",
   "language": "python",
   "name": "python3"
  },
  "language_info": {
   "codemirror_mode": {
    "name": "ipython",
    "version": 3
   },
   "file_extension": ".py",
   "mimetype": "text/x-python",
   "name": "python",
   "nbconvert_exporter": "python",
   "pygments_lexer": "ipython3",
   "version": "3.8.5"
  }
 },
 "nbformat": 4,
 "nbformat_minor": 4
}
