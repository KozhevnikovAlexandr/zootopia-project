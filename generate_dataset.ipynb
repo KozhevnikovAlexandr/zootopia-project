{
 "cells": [
  {
   "cell_type": "code",
   "execution_count": 2,
   "metadata": {},
   "outputs": [
    {
     "data": {
      "text/plain": [
       "True"
      ]
     },
     "execution_count": 2,
     "metadata": {},
     "output_type": "execute_result"
    }
   ],
   "source": [
    "# плохо работающий код для 2х изображений\n",
    "\n",
    "import cv2 as cv\n",
    "\n",
    "img1 = cv.imread('D:/back/12.jpg', cv.IMREAD_UNCHANGED)\n",
    "img2 = cv.imread('D:/front/288679_v01_b.png', cv.IMREAD_UNCHANGED)\n",
    "\n",
    "brows, bcols = img1.shape[:2]\n",
    "rows, cols, channels = img2.shape\n",
    "\n",
    "roi = img1[0:rows, 0:cols]\n",
    "\n",
    "img2gray = cv.cvtColor(img2, cv.COLOR_BGR2GRAY)\n",
    "ret, mask = cv.threshold(img2gray, 1, 255, cv.THRESH_BINARY)\n",
    "mask_inv = cv.bitwise_not(mask)\n",
    "\n",
    "img1_bg = cv.bitwise_and(roi, roi, mask=mask_inv)\n",
    "\n",
    "img2_fg = cv.bitwise_and(img2, img2, mask=mask)\n",
    "\n",
    "dst = cv.add(img1_bg, img2_fg)\n",
    "img1[0:rows, 0:cols] = dst\n",
    "cv.imwrite('D:/set/res.jpg', img1)"
   ]
  },
  {
   "cell_type": "code",
   "execution_count": null,
   "metadata": {},
   "outputs": [],
   "source": [
    "# неработающий код в цикле\n",
    "\n",
    "import os\n",
    "import random\n",
    "import cv2 as cv\n",
    "\n",
    "front_list = os.listdir(\"D:/front\")\n",
    "back_list = os.listdir(\"D:/back\")\n",
    "\n",
    "for front in front_list:\n",
    "    front_img = cv.imread(\"D:/front/{}\".format(front), cv.IMREAD_UNCHANGED)\n",
    "    for back in back_list:\n",
    "        back_img = cv.imread(\"D:/back/{}\".format(back), cv.IMREAD_UNCHANGED)\n",
    "        brows, bcols = back_img.shape[:2]\n",
    "        rows, cols, channels = front_img.shape\n",
    "        roi = back_img[0:rows, 0:cols]\n",
    "\n",
    "        img2gray = cv.cvtColor(front_img, cv.COLOR_BGR2GRAY)\n",
    "        ret, mask = cv.threshold(img2gray, 0, 255, cv.THRESH_BINARY)\n",
    "        mask_inv = cv.bitwise_not(mask)\n",
    "\n",
    "        img1_bg = cv.bitwise_and(roi, roi, mask=mask_inv)\n",
    "        img2_fg = cv.bitwise_and(front_img, front_img, mask=mask)\n",
    "\n",
    "        dst = cv.add(img1_bg, img2_fg)\n",
    "        back_img[0:rows, 0:cols] = dst\n",
    "        name = 'D:/set/{}.jpg'.format(random.randint(0, 1000))\n",
    "        cv.imwrite(name, back_img)"
   ]
  },
  {
   "cell_type": "code",
   "execution_count": null,
   "metadata": {},
   "outputs": [],
   "source": [
    "# работающий просто через координаты код для 2х изображений\n",
    "\n",
    "import cv2 as cv\n",
    "\n",
    "img1 = cv.imread('D:/back/pexels-photo-317347.jpeg', cv.IMREAD_UNCHANGED)\n",
    "img2 = cv.imread('D:/front/288679_v01_b.png', cv.IMREAD_UNCHANGED)\n",
    "\n",
    "brows, bcols = img1.shape[:2]\n",
    "rows, cols = img2.shape[:2]\n",
    "\n",
    "img1[brows // 2 - rows // 2:brows // 2 + rows // 2, bcols // 2 - cols // 2: bcols // 2 + cols // 2] = img2\n",
    "cv.imwrite('res.jpg', img1)"
   ]
  },
  {
   "cell_type": "code",
   "execution_count": null,
   "metadata": {},
   "outputs": [],
   "source": [
    "# работающий просто через координаты код в цикле \n",
    "import os\n",
    "import random\n",
    "\n",
    "import cv2 as cv\n",
    "\n",
    "front_list = os.listdir(\"D:/front\")\n",
    "back_list = os.listdir(\"D:/back\")\n",
    "\n",
    "\n",
    "for front in front_list:\n",
    "    front_img = cv.imread(\"D:/front/{}\".format(front), cv.IMREAD_UNCHANGED)\n",
    "    for back in back_list:\n",
    "        back_img = cv.imread(\"D:/back/{}\".format(back), cv.IMREAD_UNCHANGED)\n",
    "        brows, bcols = back_img.shape[:2]\n",
    "        rows, cols = front_img.shape[:2]\n",
    "\n",
    "        back_img[brows // 2 - rows // 2:brows // 2 + rows // 2,\n",
    "        bcols // 2 - cols // 2: bcols // 2 + cols // 2] = front_img\n",
    "        name = 'D:/set/{}.jpg'.format(random.randint(0, 1000))\n",
    "        cv.imwrite(name, back_img)"
   ]
  }
 ],
 "metadata": {
  "kernelspec": {
   "display_name": "Python 3",
   "language": "python",
   "name": "python3"
  },
  "language_info": {
   "codemirror_mode": {
    "name": "ipython",
    "version": 3
   },
   "file_extension": ".py",
   "mimetype": "text/x-python",
   "name": "python",
   "nbconvert_exporter": "python",
   "pygments_lexer": "ipython3",
   "version": "3.8.5"
  }
 },
 "nbformat": 4,
 "nbformat_minor": 4
}
